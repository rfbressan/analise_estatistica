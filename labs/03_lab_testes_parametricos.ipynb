{
  "nbformat": 4,
  "nbformat_minor": 0,
  "metadata": {
    "colab": {
      "provenance": [],
      "toc_visible": true
    },
    "kernelspec": {
      "name": "python3",
      "display_name": "Python 3"
    },
    "language_info": {
      "name": "python"
    }
  },
  "cells": [
    {
      "cell_type": "markdown",
      "source": [
        "# Aula de laboratório - Estimação Pontual e Intervalar\n",
        "\n",
        "Rafael Bressan\n",
        "24/04/2023\n",
        "\n",
        "# Introdução\n",
        "\n",
        "Nesta aula vamos utilizar dados disponíveis do livro _Data Analysis for \n",
        "Business, Economics, and Policy_ (Békés e Kézdi, 2021). Os estudos de caso e\n",
        "dados disponibilizados pelos autores encontram-se no site [https://gabors-data-analysis.com/](https://gabors-data-analysis.com/).\n",
        "\n",
        "Como pano de fundo para nossa aula de laboratório utilizaremos a estudo de \n",
        "caso _\"Comparing hotel prices in Europe: Vienna vs London\"_.\n",
        "\n",
        "# Estudo de Caso\n",
        "\n",
        "Como podemos comparar os mercados hoteleiros na Europa e conhecer as características \n",
        "dos preços dos hotéis? Podemos visualizar duas distribuições em um gráfico? \n",
        "Que estatísticas descritivas melhor descreveriam cada distribuição e suas \n",
        "diferenças? Podemos visualizar estatísticas descritivas?\n",
        "\n",
        "Este estudo de caso usa o conjunto de dados da `hotels-europe` e seleciona \n",
        "hotéis de 3 a 4 estrelas em Viena e Londres para comparar a distribuição de \n",
        "preços para um dia da semana em novembro de 2017. Ele ilustra a comparação de \n",
        "distribuições e o uso de histogramas e gráficos de densidade. Ele ilustra o \n",
        "uso de algumas das estatísticas descritivas mais importantes para variáveis \n",
        "quantitativas e suas visualizações, box plots e violin plots. \n",
        "\n",
        "Além das comparações gráficas, utilizaremos testes formais de hipóteses para\n",
        "comparar o preço médio de hospedagem em Viena e Londres.\n",
        "\n",
        "## Apresentando o conjunto de dados hotels-europe\n",
        "\n",
        "Os dados da `hotels-europe` incluem informação sobre preços e características \n",
        "de hotéis em 46 cidades europeias e para 10 datas diferentes. N=148.021. \n",
        "Variáveis chave: preço do hotel, distância do hotel ao centro da cidade. \n",
        "Extraído de um site de comparação de preços. Foi anonimizado e ligeiramente \n",
        "alterado para garantir a confidencialidade. Ele contém muitas informações \n",
        "sobre o local e a classificação, mas não o nome ou o endereço.\n",
        "\n",
        "# Código Python\n",
        "\n",
        "Novamente, começamos carregando as bibliotecas necessárias para nossa análise."
      ],
      "metadata": {
        "id": "oHrftYLvJF7S"
      }
    },
    {
      "cell_type": "code",
      "source": [
        "import numpy as np\n",
        "import pandas as pd\n",
        "import matplotlib.pyplot as plt\n",
        "from plotnine import *\n",
        "from scipy.stats import skew, kurtosis, ttest_1samp, ttest_ind"
      ],
      "metadata": {
        "id": "rKI5W2acKJDV"
      },
      "execution_count": null,
      "outputs": []
    },
    {
      "cell_type": "markdown",
      "source": [
        "Vamos baixar os dados e salvá-los em um Data Frame. Este conjunto de dados é\n",
        "na verdade **composto por duas tabelas** que possuem uma coluna em comum, \n",
        "também conhecida como chave primária na terminologia de banco de dados. É a partir\n",
        "desta coluna (`hotel_id`) que iremos unir os dois data frames em um único. O \n",
        "comando `head()` nos fornecerá uma visualização rápida dos dados.\n"
      ],
      "metadata": {
        "id": "OUglPv1gK2bb"
      }
    },
    {
      "cell_type": "code",
      "source": [
        "precos = pd.read_csv(\"https://osf.io/p6tyr/download/\")\n",
        "precos.head()"
      ],
      "metadata": {
        "id": "YTU-UXnmLGXs"
      },
      "execution_count": null,
      "outputs": []
    },
    {
      "cell_type": "code",
      "source": [
        "hoteis = pd.read_csv(\"https://osf.io/utwjs/download/\")\n",
        "hoteis.head()"
      ],
      "metadata": {
        "id": "BLfCrBAkME4j"
      },
      "execution_count": null,
      "outputs": []
    },
    {
      "cell_type": "markdown",
      "source": [
        "Precisamos fazer a união destes dados (merge ou join). Antes vamos filtar as datas e as cidades de interesse, para somente depois fazer a união dos dados e obter apenas um data frame para trabalhar.\n"
      ],
      "metadata": {
        "id": "a5ODiKw9Ml2O"
      }
    },
    {
      "cell_type": "code",
      "source": [
        "precos_filtrado = precos.loc[(precos[\"year\"] == 2017) & (precos[\"month\"] == 11), :]\n",
        "\n",
        "filtro_cidade = hoteis[\"city\"].isin([\"Vienna\", \"London\"])\n",
        "filtro_estrelas = (hoteis[\"stars\"] >= 3) & (hoteis[\"stars\"] <= 4)\n",
        "hoteis_filtrado = hoteis.loc[filtro_cidade & filtro_estrelas, :]\n",
        "\n",
        "# Inner Join: apenas os hoteis que estao em ambos data frames\n",
        "df = pd.merge(precos_filtrado, hoteis_filtrado, on=\"hotel_id\")"
      ],
      "metadata": {
        "id": "iIeEOMlINBoF"
      },
      "execution_count": null,
      "outputs": []
    },
    {
      "cell_type": "code",
      "source": [
        "# Apenas uma conferencia para ver se as filtragens foram corretas\n",
        "[df[x].unique() for x in [\"city\", \"year\", \"month\", \"stars\"]]"
      ],
      "metadata": {
        "id": "AqO0nQsFR4Ng"
      },
      "execution_count": null,
      "outputs": []
    },
    {
      "cell_type": "markdown",
      "source": [
        "Temos agora um data frame completo (`df`) com todos os dados necessários para nossa análise. Começaremos com alguns típicos gráficos para analisar distribuição de variáveis quantitativas.\n",
        "\n",
        "## Histogramas"
      ],
      "metadata": {
        "id": "ODlvJR--SBI9"
      }
    },
    {
      "cell_type": "code",
      "source": [
        "histpreco = (ggplot(df, aes(x ='price', y = after_stat('density'))) +\n",
        "  geom_histogram(binwidth = 20, \n",
        "                 fill = \"darkred\", color = \"white\") +\n",
        "  labs(x = \"Preco (US dolares)\", y = \"Densidade\") +\n",
        "  scale_x_continuous(limits = (0, 500),\n",
        "                     breaks = np.arange(0, 500, step=50)) +\n",
        "  facet_wrap('~city', ncol = 1) +\n",
        "  theme_classic()\n",
        ")\n",
        "histpreco\n"
      ],
      "metadata": {
        "id": "SzWKCnjISqnS"
      },
      "execution_count": null,
      "outputs": []
    },
    {
      "cell_type": "markdown",
      "source": [
        "Suponha agora que nestes histogramas desejamos acrescentar uma linha vertical indicando o preço médio das estadias. Esta é uma forma de ajudar na visualização da diferença de um importante parâmetro. Precisamos primeiro calcular estas médias por cidade e guardar em um data frame separado\n"
      ],
      "metadata": {
        "id": "WsfkM6t3XfT9"
      }
    },
    {
      "cell_type": "code",
      "source": [
        "precos_medios = df.groupby('city', as_index=False)[['price']].mean()\n",
        "precos_medios\n"
      ],
      "metadata": {
        "id": "vz45wSKzY554"
      },
      "execution_count": null,
      "outputs": []
    },
    {
      "cell_type": "markdown",
      "source": [
        "E agora utilizamos este novo data frame para incluir as linhas verticais."
      ],
      "metadata": {
        "id": "AZbVLjDkZLUR"
      }
    },
    {
      "cell_type": "code",
      "source": [
        "histpreco_media = (histpreco +\n",
        "  geom_vline(aes(xintercept = 'price'), data = precos_medios,\n",
        "             linetype = 'dashed')\n",
        ")\n",
        "histpreco_media\n"
      ],
      "metadata": {
        "id": "jU0MORXAbPGw"
      },
      "execution_count": null,
      "outputs": []
    },
    {
      "cell_type": "markdown",
      "source": [
        "## Boxplot\n",
        " \n",
        "Outra forma de investigar graficamente as diferenças nas distribuições de preços é através de boxplots, um para cada cidade.\n"
      ],
      "metadata": {
        "id": "KoNzIodtcgeT"
      }
    },
    {
      "cell_type": "code",
      "source": [
        "boxpreco = (ggplot(df, aes(x = 'city', y = 'price')) +\n",
        "  geom_boxplot(aes(color = 'city'), show_legend = False) +\n",
        "  labs(y = \"Preco (US dolares)\", x = \"Cidade\") +\n",
        "  theme_classic()\n",
        ") \n",
        "boxpreco\n"
      ],
      "metadata": {
        "id": "8j_n4V2fewJ2"
      },
      "execution_count": null,
      "outputs": []
    },
    {
      "cell_type": "markdown",
      "source": [
        "## Violino\n",
        "\n",
        "Podemos aliar as informações de um boxplot ao formato de um gráfico de densidade e obter o chamado gráfico de violino.\n"
      ],
      "metadata": {
        "id": "0Mt3knvefNJy"
      }
    },
    {
      "cell_type": "code",
      "source": [
        "violinopreco = (ggplot(df, aes(x = 'city', y = 'price')) +\n",
        "  geom_violin(aes(color = 'city'), show_legend = False,\n",
        "              draw_quantiles = (0.25, 0.5, 0.75)) +\n",
        "  labs(y = \"Preco (US dolares)\", x = \"Cidade\") +\n",
        "  coord_flip() +\n",
        "  theme_classic() \n",
        ")\n",
        "violinopreco\n"
      ],
      "metadata": {
        "id": "zFL2DFD3fS6j"
      },
      "execution_count": null,
      "outputs": []
    },
    {
      "cell_type": "markdown",
      "source": [
        "## Estatísticas Descritivas\n",
        "\n",
        "Percebemos claramente através de todos os gráficos apresentados que as distribuições de preços são diferentes entre as cidades. Valores mínimos, máximos,média e de observações podem ser calculados para cada uma das cidades e tabulados.\n",
        "Além destes, vamos computar também alguns outros momentos da distribuição:variância, assimetria e curtose.\n"
      ],
      "metadata": {
        "id": "6KxTnVxFfr09"
      }
    },
    {
      "cell_type": "code",
      "source": [
        "descritivas = (df.groupby('city', as_index=False)[\"price\"]\n",
        "               .agg(['mean', 'min', 'max', 'count', 'var', skew, kurtosis])\n",
        "               .rename(columns={\"mean\": \"Media\"})\n",
        ")\n",
        "\n",
        "descritivas\n"
      ],
      "metadata": {
        "id": "syuiSzFFf1ez"
      },
      "execution_count": null,
      "outputs": []
    },
    {
      "cell_type": "markdown",
      "source": [
        "## Teste de Hipótese Paramétrico\n",
        "\n",
        "Por ora vamos testar os preços médios de estadia nas cidades de forma individual contra valores fixos. Iremos fazer um **teste bilateral** em Viena, verificando se o preço médio é diferente de US\\$ 150 enquanto que para Londres faremos um teste unilateral, $H_0: \\mu < 200$.\n",
        "\n",
        "Temos uma amostra de dados onde podemos estimar a média, recaímos no Caso I da aula. Este é o famoso caso do **teste t** para apenas uma amostra. \n",
        "\n",
        "No `Python` podemos fazer o teste t através da função `ttest_1samp()` da biblioteca `scipy`.\n"
      ],
      "metadata": {
        "id": "6wUcz4hPlygm"
      }
    },
    {
      "cell_type": "code",
      "source": [
        "precos_viena = df.loc[df['city']=='Vienna', 'price']\n",
        "viena_ttest = ttest_1samp(precos_viena, popmean=150)\n",
        "viena_ttest"
      ],
      "metadata": {
        "id": "q-FBCN14Gqs4"
      },
      "execution_count": null,
      "outputs": []
    },
    {
      "cell_type": "code",
      "source": [
        "precos_londres = df.loc[df['city']=='London', 'price']\n",
        "ttest_1samp(precos_londres, popmean=200, alternative='less')"
      ],
      "metadata": {
        "id": "0FXaXU45KQ3d"
      },
      "execution_count": null,
      "outputs": []
    },
    {
      "cell_type": "markdown",
      "source": [
        "O intervalo de confiança para um teste t feito com esta função pode ser obtido através do método `confidence_interval`."
      ],
      "metadata": {
        "id": "ueilOlC1Lzhk"
      }
    },
    {
      "cell_type": "code",
      "source": [
        "viena_ttest.confidence_interval(0.9)"
      ],
      "metadata": {
        "id": "kktPH_B7MOAS"
      },
      "execution_count": null,
      "outputs": []
    },
    {
      "cell_type": "markdown",
      "source": [
        "Podemos fazer agora um teste de **diferença de médias**. O valor médio da hospedagem em Londres é estatisticamente mais caro que em Viena? Já sabemos que em média Londres é mais caro, mas podemos nos perguntar se esta diferença é estatisticamente significativa. Para tanto, faremos um teste unilateral sobre a diferença entre Londres e Viena, com a hipótese alternativa sendo \"a diferença é maior que zero\"."
      ],
      "metadata": {
        "id": "uNYNMfW4MXzr"
      }
    },
    {
      "cell_type": "code",
      "source": [
        "diferenca_ttest = ttest_ind(precos_londres, precos_viena, equal_var=False, alternative='greater')\n",
        "diferenca_ttest"
      ],
      "metadata": {
        "id": "M0wqrqBUxtGZ"
      },
      "execution_count": null,
      "outputs": []
    },
    {
      "cell_type": "code",
      "source": [],
      "metadata": {
        "id": "9qKh-krMyuN5"
      },
      "execution_count": null,
      "outputs": []
    }
  ]
}