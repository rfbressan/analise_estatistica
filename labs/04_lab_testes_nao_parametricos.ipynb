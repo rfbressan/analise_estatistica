{
  "nbformat": 4,
  "nbformat_minor": 0,
  "metadata": {
    "colab": {
      "provenance": [],
      "toc_visible": true
    },
    "kernelspec": {
      "name": "python3",
      "display_name": "Python 3"
    },
    "language_info": {
      "name": "python"
    }
  },
  "cells": [
    {
      "cell_type": "markdown",
      "source": [
        "## Introdução\n",
        "\n",
        "Os dados `cps-earnings` incluem dados de rendimentos para 2014, obtidos dos conjuntos de dados _Merged Outgoing Rotation Groups_ (MORG) do _Current Population Survey_ (CPS) dos EUA. O conjunto de dados tem N=149316 observações.\n",
        "\n",
        "Variáveis-chave: diferença salarial de mulheres e homens entre analistas de mercado, remuneração por hora e idade dos analistas de mercado, idade e gênero dos funcionários com pós-graduação, três categorias de pós-graduação (mestrado, profissionalizante e doutorado), entre outras."
      ],
      "metadata": {
        "id": "EitQYopv9pPn"
      }
    },
    {
      "cell_type": "markdown",
      "source": [
        "# Códigos em Python\n",
        "\n",
        "Como sempre, começamos importando as bibliotecas e funções necessárias para a análise."
      ],
      "metadata": {
        "id": "QcvTj2TZPJ6e"
      }
    },
    {
      "cell_type": "code",
      "execution_count": null,
      "metadata": {
        "id": "P2QUyKPzs3aR"
      },
      "outputs": [],
      "source": [
        "import pandas as pd\n",
        "from scipy.stats import mannwhitneyu, wilcoxon, kruskal"
      ]
    },
    {
      "cell_type": "markdown",
      "source": [
        "Os dados são novamente carregados a partir da URL fornecida pelo website do livro-texto."
      ],
      "metadata": {
        "id": "HLusE6gtPYcY"
      }
    },
    {
      "cell_type": "code",
      "source": [
        "cps = pd.read_csv(\"https://osf.io/4ay9x/download/\")"
      ],
      "metadata": {
        "id": "7kh8E6iattQF"
      },
      "execution_count": null,
      "outputs": []
    },
    {
      "cell_type": "markdown",
      "source": [
        "Sempre que carregamos dados novos para trabalhar, devemos verificar a documentação destes dados. Esta documentação deve trazer a fonte primária dos mesmos, assim como o significado de cada uma das variáveis que compõe o dataset. No presente caso temos um arquivo de Readme e também o dicionário de dados, com os links abaixo:\n",
        "\n",
        "[Readme.txt](https://osf.io/cgfrq)\n",
        "\n",
        "[Dicionário de dados](https://osf.io/uqe8z)"
      ],
      "metadata": {
        "id": "yCcrIB9owaS1"
      }
    },
    {
      "cell_type": "markdown",
      "source": [
        "Estamos interessados em fazer testes de comparação de localização central de forma **não paramétrica**. Uma das necessidades para tais testes é a ausência de hipótese a priori da distribuição da população e uma **quantidade pequena de observações**.\n",
        "\n",
        "Para tanto, vamos testar os **ganhos semanais** de CEOs do Estado da Flórida que possuem apenas graduação. Somos assim específicos para filtrarmos a base de dados e obter um pequeno número de observações. "
      ],
      "metadata": {
        "id": "SngZ7xQOQGAB"
      }
    },
    {
      "cell_type": "code",
      "source": [
        "# Estado da Flórida, graduação completa (Bachelors degree), CEOs (chief executives)\n",
        "filter = (cps[\"stfips\"] == \"FL\") & (cps[\"grade92\"] == 43) &(cps[\"occ2012\"] == 10)\n",
        "df = cps.loc[filter]\n",
        "df.info()"
      ],
      "metadata": {
        "id": "JTTBS6ejvh5y"
      },
      "execution_count": null,
      "outputs": []
    },
    {
      "cell_type": "markdown",
      "source": [
        "## Teste de Wilcoxon \n",
        "\n",
        "Hipótese nula, $H_0: Md = Md_0$\n",
        "\n",
        "Hipótese alternativa $H_a: Md\\neq Md_0$\n",
        "\n",
        "Usamos com amostras menores que 30 observações \n",
        "\n",
        "Estatística de teste: $T=min\\{T^-, T^+\\}$\n",
        "\n",
        "Regra de decisão: Se $T\\leq T_{tab}$, então rejeita-se a $H_0$"
      ],
      "metadata": {
        "id": "1RO8inat0xWJ"
      }
    },
    {
      "cell_type": "markdown",
      "source": [
        "Em nosso exemplo vamos testar se a **mediana** dos ganhos semanais de CEOs é igual a US\\$ 2.000.\n",
        "\n",
        "A função `wilcoxon` faz um teste entre amostras pareadas, que não é nosso caso aqui. Entretanto, podemos entender o teste de uma única amostra contra um valor fixo como uma amostra pareada onde a segunda amostra possui sempre o mesmo valor. Passamos para a função a diferença entre as amostras pareadas."
      ],
      "metadata": {
        "id": "e0lbOeF51y1Y"
      }
    },
    {
      "cell_type": "code",
      "source": [
        "df[\"earnwke\"].median()"
      ],
      "metadata": {
        "id": "AZW1MnNlxbU1"
      },
      "execution_count": null,
      "outputs": []
    },
    {
      "cell_type": "code",
      "source": [
        "wilcoxon(df[\"earnwke\"] - 2000)"
      ],
      "metadata": {
        "id": "SjtbdYZX2M1i"
      },
      "execution_count": null,
      "outputs": []
    },
    {
      "cell_type": "markdown",
      "source": [
        "## Teste de Mann-Whitney\n",
        "\n",
        "Hipótese nula, $H_0: X_1 \\text{ e } X_2$ possuem mesma distribuição\n",
        "\n",
        "Hipótese alternativa $H_a: X_1 \\text{ e } X_2$ diferem em sua posição central\n",
        "\n",
        "Usamos com amostras menores que 20 observações em cada grupo\n",
        "\n",
        "Estatística de teste: $U=min\\{U_1, U_2\\}$\n",
        "\n",
        "Regra de decisão: Se $U\\leq U_{tab}$, então rejeita-se a $H_0$"
      ],
      "metadata": {
        "id": "EpfrQXrT5asI"
      }
    },
    {
      "cell_type": "markdown",
      "source": [
        "Faremos agora um teste de comparação entre duas amostras, portanto, necessitamos de um outro Estado para comparar. Escolhemos o Texas."
      ],
      "metadata": {
        "id": "HQLIwWOgRuEA"
      }
    },
    {
      "cell_type": "code",
      "source": [
        "# Estado do Texas, graduação completa (Bachelors degree), CEOs (chief executives)\n",
        "filter2 = (cps[\"stfips\"] == \"TX\") & (cps[\"grade92\"] == 43) &(cps[\"occ2012\"] == 10)\n",
        "df2 = cps.loc[filter2]\n",
        "df2.info()"
      ],
      "metadata": {
        "id": "05MO2z1N50W-"
      },
      "execution_count": null,
      "outputs": []
    },
    {
      "cell_type": "code",
      "source": [
        "df2[\"earnwke\"].median()"
      ],
      "metadata": {
        "id": "b1FdO9_J6QBI"
      },
      "execution_count": null,
      "outputs": []
    },
    {
      "cell_type": "code",
      "source": [
        "mannwhitneyu(df[\"earnwke\"], df2[\"earnwke\"])"
      ],
      "metadata": {
        "id": "UNAEoJVr6T1S"
      },
      "execution_count": null,
      "outputs": []
    },
    {
      "cell_type": "markdown",
      "source": [
        "## Teste de Kruskal-Wallis\n",
        "\n",
        "Hipótese nula, $H_0$: todos os $k$ grupos possuem mesma distribuição\n",
        "\n",
        "Hipótese alternativa $H_a$: pelo menos um dos grupos difere em sua posição central\n",
        "\n",
        "Usamos com amostras maiores que 4 observações em cada grupo\n",
        "\n",
        "Estatística de teste: $H=\\frac{12}{N(N+1)}\\sum_{i=1}^k \\frac{T_i^2}{n_i} - 3(N+1)$\n",
        "\n",
        "Regra de decisão: Se $H\\geq \\chi^2_{k-1,\\alpha}$, então rejeita-se a $H_0$"
      ],
      "metadata": {
        "id": "kBn-KeLl4nXE"
      }
    },
    {
      "cell_type": "markdown",
      "source": [
        "Finalmente, no teste de Kruskal-Wallis a comparação é feita entre 3 ou mais amostras. Escolhemos o Tenessee como o terceiro estado a ser testado. Verifiquem que todas as 3 amostras possuem poucas observações ($n \\leq 30$)."
      ],
      "metadata": {
        "id": "IsNcGNuNR7jd"
      }
    },
    {
      "cell_type": "code",
      "source": [
        "# Estado do Tenessee, graduação completa (Bachelors degree), CEOs (chief executives)\n",
        "filter3 = (cps[\"stfips\"] == \"TN\") & (cps[\"grade92\"] == 43) &(cps[\"occ2012\"] == 10)\n",
        "df3 = cps.loc[filter3]\n",
        "df3.info()"
      ],
      "metadata": {
        "id": "3KWTh47X5zYX"
      },
      "execution_count": null,
      "outputs": []
    },
    {
      "cell_type": "code",
      "source": [
        "df3[\"earnwke\"].median()"
      ],
      "metadata": {
        "id": "_ZmnF9Lr8_lx"
      },
      "execution_count": null,
      "outputs": []
    },
    {
      "cell_type": "code",
      "source": [
        "kruskal(df[\"earnwke\"], df2[\"earnwke\"], df3[\"earnwke\"])"
      ],
      "metadata": {
        "id": "6vvK2hX38lA8"
      },
      "execution_count": null,
      "outputs": []
    },
    {
      "cell_type": "code",
      "source": [],
      "metadata": {
        "id": "KNSWolku89fj"
      },
      "execution_count": null,
      "outputs": []
    }
  ]
}