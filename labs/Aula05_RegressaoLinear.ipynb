{
  "nbformat": 4,
  "nbformat_minor": 0,
  "metadata": {
    "colab": {
      "provenance": [],
      "toc_visible": true
    },
    "kernelspec": {
      "name": "python3",
      "display_name": "Python 3"
    },
    "language_info": {
      "name": "python"
    }
  },
  "cells": [
    {
      "cell_type": "markdown",
      "source": [
        "# Regressão linear \n",
        "\n",
        "Nesta aula faremos uso da base de dados `hotels-vienna` para aprender a fazer uma regressão linear, apresentar seus resultados e interpretá-los.\n",
        "\n",
        "Como podemos encontrar os hotéis que estão abaixo do preço em relação à distância do centro da cidade? Continuando os estudos de caso anteriores, precisamos descobrir como o preço do hotel está relacionado à distância ao centro da cidade para saber qual preço esperar em quais distâncias. Então, podemos identificar os hotéis com preços mais baixos em comparação com o preço esperado. Começaremos portanto, com uma **regressão linear simples**.\n"
      ],
      "metadata": {
        "id": "X1lQZTPXxNgr"
      }
    },
    {
      "cell_type": "markdown",
      "source": [
        "## Importando Pacotes e Baixando os Dados"
      ],
      "metadata": {
        "id": "0IgFUCp8ykvn"
      }
    },
    {
      "cell_type": "code",
      "source": [
        "import pandas as pd\n",
        "import statsmodels.formula.api as smf\n",
        "import matplotlib.pyplot as plt"
      ],
      "metadata": {
        "id": "KttW7IzYyt-V"
      },
      "execution_count": null,
      "outputs": []
    },
    {
      "cell_type": "code",
      "source": [
        "# Carregar os dados\n",
        "hotels_viena = pd.read_csv(\"https://osf.io/y6jvb/download\")\n",
        "\n",
        "# 3-4 estrelas, Viena somente, sem valores extremos\n",
        "df = hotels_viena.loc[\n",
        "    (hotels_viena[\"accommodation_type\"] == \"Hotel\")\n",
        "    & (hotels_viena[\"city_actual\"] == \"Vienna\")\n",
        "    & (hotels_viena[\"stars\"] >= 3)\n",
        "    & (hotels_viena[\"stars\"] <= 4)\n",
        "    & (hotels_viena[\"stars\"].notna())\n",
        "    & (hotels_viena[\"price\"] <= 600)\n",
        "]"
      ],
      "metadata": {
        "id": "xW4TLKOW5aG7"
      },
      "execution_count": null,
      "outputs": []
    },
    {
      "cell_type": "code",
      "source": [
        "df[['price', 'distance']].describe()"
      ],
      "metadata": {
        "id": "oQkuICgw3kh3"
      },
      "execution_count": null,
      "outputs": []
    },
    {
      "cell_type": "code",
      "source": [
        "fig, ax = plt.subplots(figsize=(10,6))\n",
        "ax.scatter(df['distance'], df['price'])\n",
        "ax.set_xlabel(\"Distância\")\n",
        "ax.set_ylabel(\"Preço\")"
      ],
      "metadata": {
        "id": "HUrNihjK48mr"
      },
      "execution_count": null,
      "outputs": []
    },
    {
      "cell_type": "markdown",
      "source": [
        "## Regressão Linear Simples\n",
        "\n",
        "Parece haver uma relação negativa entre preço e distância ao centro da cidade. Vamos confirmar esta relação através de uma regressão linear simples e aplicar um teste de hipótese sobre o coeficiente angular estimado. A regressão a ser realizada é:\n",
        "\n",
        "$\\text{preco}_i=\\beta_0+\\beta_1\\text{dist}_i+u_i$,\n",
        "\n",
        "e testaremos a hipótese nula que $\\beta_1=0.$\n",
        "\n"
      ],
      "metadata": {
        "id": "6czXn4XKycp2"
      }
    },
    {
      "cell_type": "code",
      "source": [
        "regression = smf.ols(formula=\"price~distance\", data=df).fit()"
      ],
      "metadata": {
        "id": "AaO-IBoXxejY"
      },
      "execution_count": null,
      "outputs": []
    },
    {
      "cell_type": "code",
      "source": [
        "regression.summary()"
      ],
      "metadata": {
        "id": "FYpmOoL-87KJ"
      },
      "execution_count": null,
      "outputs": []
    },
    {
      "cell_type": "markdown",
      "source": [
        "É simples interpretar os resultados obtidos desta regressão. Temos um intercepto no valor de 132 e um coeficiente angular associado a distância no valor de -14,41, negativo de acordo com nossas expectativas. O erro padrão deste coeficiente é 2,33 o que nos dá uma estatística t de -6,18. Com esta estatística podemos afirmar que ao nível de significância de 1% a relação entre preço e distância é de fato negativa."
      ],
      "metadata": {
        "id": "KhGmK5ki-4jy"
      }
    },
    {
      "cell_type": "markdown",
      "source": [
        "Vamos encontrar as previsões de preços para os hotéis da amostra e plotar a reta de regressão contra o gráfico de dispersão apresentado anteriormente."
      ],
      "metadata": {
        "id": "OO0hrY97_vvl"
      }
    },
    {
      "cell_type": "code",
      "source": [
        "df['previsao'] = regression.predict()"
      ],
      "metadata": {
        "id": "CVK-lLQi_sZR"
      },
      "execution_count": null,
      "outputs": []
    },
    {
      "cell_type": "code",
      "source": [
        "ax.plot(df['distance'], df['previsao'], color='red')\n",
        "fig"
      ],
      "metadata": {
        "id": "SkuqljLc8-kV"
      },
      "execution_count": null,
      "outputs": []
    },
    {
      "cell_type": "markdown",
      "source": [
        "## Regressão Múltipla\n",
        "\n",
        "Queremos agora encontrar os hotéis que estão abaixo do preço por sua **qualidade** e **distância** do centro da cidade. Para fazer isso, primeiro precisamos descobrir os preços esperados em vários níveis de distância e qualidade de uma forma que reflita todos os padrões importantes nos dados. Faremos isso através de uma regressão múltipla como esta:\n",
        "\n",
        "$\\text{preco}_i=\\beta_0+\\beta_1\\text{dist}_i+\\beta_2\\text{qual}_i+u_i$.\n",
        "\n",
        "Além dos testes t individuais para cada um dos coeficientes, podemos realizar um teste F conjunto para analisar a significância de todos os regressores conjuntamente. "
      ],
      "metadata": {
        "id": "ra0dlmYrA7BC"
      }
    },
    {
      "cell_type": "code",
      "source": [
        "mregression = smf.ols('price~distance+rating', data=df).fit()"
      ],
      "metadata": {
        "id": "e4kWpCsSASw3"
      },
      "execution_count": null,
      "outputs": []
    },
    {
      "cell_type": "code",
      "source": [
        "mregression.summary()"
      ],
      "metadata": {
        "id": "uBC-ffgoDM-J"
      },
      "execution_count": null,
      "outputs": []
    },
    {
      "cell_type": "markdown",
      "source": [
        "Enquanto o coeficiente de distância continua estatisticamente significativo e em valor negativo de -11,08, o coeficiente de qualidade (avaliação dos usuários) é positivo e também significativo.\n",
        "\n",
        "A interpretação de uma regressão múltipla exige o conceito de _ceteris paribus_ (tudo o mais constante). Ou seja, o ganho de 1 estrela nos ratings do hotel significa, em média, um incremento de preço de $39,73, **mantidas as demais variáveis constantes**. Neste caso temos somente outra variável que é a distância."
      ],
      "metadata": {
        "id": "oeqzJ9QrEDkV"
      }
    },
    {
      "cell_type": "markdown",
      "source": [
        "Já o teste F conjunto tem uma estatística no valor de 39,29. Poderíamos ir numa tabela F com o nível de significância desejado, encontrar a posição correspondente aos 2 graus de liberdade do numerador e 204 do denominador e comparar este valor crítico contra a estatística F. De outra forma, podemos avaliar o p-valor dado de 3,69e-15 (basicamente zero) e então decidir pela rejeição da hipótese nula para qualquer nível de significância tipicamente utilizado. Ou seja, o modelo estimado é informativo. Um ou ambos os regressores nos trazem informações relevantes para prever o preço dos hotéis."
      ],
      "metadata": {
        "id": "M-L7Rev0D8Mt"
      }
    },
    {
      "cell_type": "code",
      "source": [
        "from statsmodels.stats.anova import anova_lm\n",
        "anova_lm(mregression, typ=1)"
      ],
      "metadata": {
        "id": "80Kf-OFYGss6"
      },
      "execution_count": null,
      "outputs": []
    },
    {
      "cell_type": "code",
      "source": [],
      "metadata": {
        "id": "_BJoCJkoIypt"
      },
      "execution_count": null,
      "outputs": []
    }
  ]
}